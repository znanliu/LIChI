{
 "cells": [
  {
   "cell_type": "code",
   "execution_count": 8,
   "metadata": {},
   "outputs": [],
   "source": [
    "\n",
    "import torch\n",
    "from torchvision.io import read_image, write_png\n",
    "from lichi import LIChI\n",
    "import argparse\n",
    "import time\n",
    "import matplotlib.pyplot as plt\n",
    "import numpy as np"
   ]
  },
  {
   "cell_type": "code",
   "execution_count": 19,
   "metadata": {},
   "outputs": [],
   "source": [
    "parser = argparse.ArgumentParser()\n",
    "parser.add_argument(\"--sigma\", type=float, dest=\"sigma\",\n",
    "                    help=\"Standard deviation of the noise (noise level). Should be between 0 and 50.\", default=30)\n",
    "parser.add_argument(\"--in\", type=str, dest=\"path_in\",\n",
    "                    help=\"Path to the image to denoise (PNG or JPEG).\", default=\"./test_images/cameraman.png\")\n",
    "parser.add_argument(\"--out\", type=str, dest=\"path_out\",\n",
    "                    help=\"Path to save the denoised image.\", default=\"./img_lichi.png\")\n",
    "parser.add_argument(\"--add_noise\", action='store_true',\n",
    "                    help=\"Add artificial Gaussian noise to the image.\", default=True)\n",
    "\n",
    "# To avoid conflicts with Jupyter's arguments, pass an empty list to parse_args()\n",
    "args = parser.parse_args(args=[])\n",
    "device = torch.device(\"cuda:0\" if torch.cuda.is_available() else \"cpu\")"
   ]
  },
  {
   "cell_type": "code",
   "execution_count": 20,
   "metadata": {},
   "outputs": [],
   "source": [
    "# Read image and Add noise\n",
    "img = read_image(args.path_in)[None, :, :, :].float().to(device)\n",
    "img_noisy = img + args.sigma * torch.randn_like(img) if args.add_noise else img"
   ]
  },
  {
   "cell_type": "code",
   "execution_count": 21,
   "metadata": {},
   "outputs": [],
   "source": [
    "def lichi(img_noisy, sigma):\n",
    "    model = LIChI()\n",
    "    if sigma <= 10:\n",
    "        img_lichi = model(img_noisy, sigma=sigma, constraints='affine', method='n2n', p1=9, p2=6, k1=16, k2=64, w=65, s=3, M=6)\n",
    "    elif sigma <= 30:\n",
    "        img_lichi = model(img_noisy, sigma=sigma, constraints='affine', method='n2n', p1=11, p2=6, k1=16, k2=64, w=65, s=3, M=9)\n",
    "    else:\n",
    "        img_lichi = model(img_noisy, sigma=sigma, constraints='affine', method='n2n', p1=13, p2=6, k1=16, k2=64, w=65, s=3, M=11)\n",
    "    img_lichi = img_lichi.clip(0, 255)\n",
    "    return img_lichi\n",
    "\n",
    "def LR(img_noisy, threshold=0.99):\n",
    "    img_noisy = torch.squeeze(img_noisy)\n",
    "    U, S, Vh = torch.linalg.svd(img_noisy, full_matrices=False)\n",
    "    energy_total = torch.sum(S**2)\n",
    "    energy_cumulative = torch.cumsum(S**2, dim=0)\n",
    "    energy_threshold = threshold * energy_total\n",
    "    k = torch.searchsorted(energy_cumulative, energy_threshold).item()+1\n",
    "    U_k = U[:, :k]\n",
    "    S_k = torch.diag(S[:k])\n",
    "    Vh_k = Vh[:k, :]\n",
    "    img_lr = U_k @ S_k @ Vh_k\n",
    "    img_lr = img_lr.clip(0, 255)\n",
    "    return img_lr\n",
    "\n",
    "def im2row(im, img_size, block_size):\n",
    "    H, W = img_size\n",
    "    block_h, block_w = block_size\n",
    "\n",
    "    patch_h = H - block_h + 1\n",
    "    patch_w = W - block_w + 1\n",
    "    patch_num = patch_h * patch_w\n",
    "    block_length = block_h * block_w\n",
    "    result = torch.zeros((block_length, patch_num))\n",
    "\n",
    "    patch_idx = 0\n",
    "    for y in range(patch_w):\n",
    "        for x in range(patch_h):\n",
    "            patch = im[x:x+block_h, y:y+block_w]\n",
    "            result[:, patch_idx] = patch.reshape(-1)\n",
    "            patch_idx += 1\n",
    "    return result\n",
    "\n",
    "\n",
    "def row2im(patches, img_size, block_size):\n",
    "    H, W = img_size\n",
    "    block_h, block_w = block_size\n",
    "    result = torch.zeros((H, W))\n",
    "    weight = torch.zeros((H, W))\n",
    "\n",
    "    patch_idx = 0\n",
    "    for y in range(W-block_w+1):\n",
    "        for x in range(H-block_h+1):\n",
    "            patch = patches[:, patch_idx]\n",
    "            result[x:x+block_h, y:y+block_w] += patch.reshape(8, 8)\n",
    "            weight[x:x+block_h, y:y+block_w] += 1\n",
    "            patch_idx += 1\n",
    "    \n",
    "    # weight = torch.clamp(weight, min=1e-6)\n",
    "    result /= weight\n",
    "    return result\n",
    "\n",
    "def LLR(img_noisy, k, block_size=[8, 8]):\n",
    "    img_noisy = torch.squeeze(img_noisy)\n",
    "    img_size = img_noisy.shape\n",
    "    patches = im2row(img_noisy, img_size, block_size)\n",
    "    U, S, Vh = torch.linalg.svd(patches, full_matrices=False)\n",
    "    U_k = U[:, :k]\n",
    "    S_k = torch.diag(S[:k])\n",
    "    Vh_k = Vh[:k, :]\n",
    "    patch_lr = U_k @ S_k @ Vh_k\n",
    "    img_llr = row2im(patch_lr, img_size, block_size)\n",
    "    img_llr = img_llr.clip(0, 255)\n",
    "    return img_llr\n"
   ]
  },
  {
   "cell_type": "code",
   "execution_count": 23,
   "metadata": {},
   "outputs": [
    {
     "name": "stdout",
     "output_type": "stream",
     "text": [
      "Time elapsed LiChI: 12.871 seconds\n",
      "Time elapsed LR: 0.023 seconds\n",
      "Time elapsed LLR: 5.408 seconds\n"
     ]
    }
   ],
   "source": [
    "t = time.time()\n",
    "img_lichi = lichi(img_noisy, args.sigma)\n",
    "print(\"Time elapsed LiChI:\", round(time.time() - t, 3), \"seconds\")\n",
    "write_png(img_lichi[0, :, :, :].byte().to(\"cpu\"), args.path_out)\n",
    "\n",
    "t = time.time()\n",
    "img_lr = LR(img_noisy)\n",
    "print(\"Time elapsed LR:\", round(time.time() - t, 3), \"seconds\")\n",
    "write_png(img_lr.unsqueeze(0).byte().to(\"cpu\"), \"./img_lr.png\")\n",
    "\n",
    "t = time.time()\n",
    "img_llr = LLR(img_noisy, k=20)\n",
    "print(\"Time elapsed LLR:\", round(time.time() - t, 3), \"seconds\")\n",
    "write_png(img_llr.unsqueeze(0).byte().to(\"cpu\"), \"./img_llr.png\")"
   ]
  },
  {
   "cell_type": "code",
   "execution_count": 24,
   "metadata": {},
   "outputs": [
    {
     "name": "stdout",
     "output_type": "stream",
     "text": [
      "PSNR LiChI: 28.86 dB\n",
      "PSNR LR: 19.7 dB\n",
      "PSNR LLR: 23.84 dB\n"
     ]
    }
   ],
   "source": [
    "psnr = 10*torch.log10(255**2 / torch.mean((img_lichi - img)**2))\n",
    "print(\"PSNR LiChI:\", round(float(psnr), 2), \"dB\")\n",
    "\n",
    "psnr = 10*torch.log10(255**2 / torch.mean((img_lr - img)**2))\n",
    "print(\"PSNR LR:\", round(float(psnr), 2), \"dB\")\n",
    "\n",
    "psnr = 10*torch.log10(255**2 / torch.mean((img_llr - img)**2))\n",
    "print(\"PSNR LLR:\", round(float(psnr), 2), \"dB\")"
   ]
  },
  {
   "cell_type": "code",
   "execution_count": 17,
   "metadata": {},
   "outputs": [
    {
     "data": {
      "text/plain": [
       "(torch.Size([256, 256]), torch.Size([256, 256]))"
      ]
     },
     "execution_count": 17,
     "metadata": {},
     "output_type": "execute_result"
    }
   ],
   "source": [
    "img_lr.shape, img_llr.shape"
   ]
  },
  {
   "cell_type": "code",
   "execution_count": null,
   "metadata": {},
   "outputs": [],
   "source": []
  }
 ],
 "metadata": {
  "kernelspec": {
   "display_name": "Python 3.9.13 ('venv': venv)",
   "language": "python",
   "name": "python3"
  },
  "language_info": {
   "codemirror_mode": {
    "name": "ipython",
    "version": 3
   },
   "file_extension": ".py",
   "mimetype": "text/x-python",
   "name": "python",
   "nbconvert_exporter": "python",
   "pygments_lexer": "ipython3",
   "version": "3.9.13"
  },
  "orig_nbformat": 4,
  "vscode": {
   "interpreter": {
    "hash": "1eae3fb3d22bfe9d65f381451681dc210dcc0b10938e5e2e079c6bf80fa6ee79"
   }
  }
 },
 "nbformat": 4,
 "nbformat_minor": 2
}
