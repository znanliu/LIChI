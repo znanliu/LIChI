{
 "cells": [
  {
   "cell_type": "code",
   "execution_count": 1,
   "metadata": {},
   "outputs": [],
   "source": [
    "import time\n",
    "import torch\n",
    "import torch.nn as nn\n",
    "import torch.optim as optim\n",
    "import torch.nn.functional as F\n",
    "import matplotlib.pyplot as plt\n",
    "\n",
    "from torchvision.io import read_image, write_png\n",
    "\n",
    "device = torch.device(\"cuda:0\" if torch.cuda.is_available() else \"cpu\")"
   ]
  },
  {
   "cell_type": "code",
   "execution_count": 2,
   "metadata": {},
   "outputs": [],
   "source": [
    "sigma = 30\n",
    "path_in = './test_images/cameraman.png'\n",
    "\n",
    "img = read_image(path_in)[None, :, :, :].float().to(device)\n",
    "img_noisy = img + sigma * torch.randn_like(img)"
   ]
  },
  {
   "cell_type": "code",
   "execution_count": 3,
   "metadata": {},
   "outputs": [],
   "source": [
    "class conv_block(nn.Module):\n",
    "    def __init__(self, ch_in, ch_out):\n",
    "        super(conv_block, self).__init__()\n",
    "        self.conv = nn.Sequential(\n",
    "            nn.Conv2d(ch_in, ch_out, kernel_size=3, stride=1, padding=1, bias=True),\n",
    "            nn.BatchNorm2d(ch_out),\n",
    "            nn.ReLU(inplace=True)\n",
    "        )\n",
    "    \n",
    "    def forward(self, x):\n",
    "        x = self.conv(x)\n",
    "        return x\n",
    "        \n",
    "class up_conv(nn.Module):\n",
    "    def __init__(self, ch_in, ch_out):\n",
    "        super(up_conv, self).__init__()\n",
    "        self.up = nn.Sequential(\n",
    "            nn.Upsample(scale_factor=2),\n",
    "            nn.Conv2d(ch_in, ch_out, kernel_size=3, stride=1, padding=1, bias=True),\n",
    "            nn.BatchNorm2d(ch_out),\n",
    "            nn.ReLU(inplace=True)\n",
    "        )\n",
    "\n",
    "    def forward(self, x):\n",
    "        x = self.up(x)\n",
    "        return x\n",
    "\n",
    "class U_Net(nn.Module):\n",
    "    def __init__(self, img_ch=1, output_ch=1):\n",
    "        super(U_Net, self).__init__()\n",
    "\n",
    "        self.maxpool = nn.MaxPool2d(kernel_size=2, stride=2)\n",
    "        \n",
    "        self.conv1 = conv_block(ch_in=img_ch, ch_out=64)\n",
    "        self.conv2 = conv_block(ch_in=64, ch_out=128)\n",
    "        self.conv3 = conv_block(ch_in=128, ch_out=256)\n",
    "        self.conv4 = conv_block(ch_in=256, ch_out=512)\n",
    "        self.conv5 = conv_block(ch_in=512, ch_out=1024)\n",
    "\n",
    "        self.up5 = up_conv(ch_in=1024, ch_out=512)\n",
    "        self.up_conv5 = conv_block(ch_in=1024, ch_out=512)\n",
    "        self.up4 = up_conv(ch_in=512, ch_out=256)\n",
    "        self.up_conv4 = conv_block(ch_in=512, ch_out=256)\n",
    "        self.up3 = up_conv(ch_in=256, ch_out=128)\n",
    "        self.up_conv3 = conv_block(ch_in=256, ch_out=128)\n",
    "        self.up2 = up_conv(ch_in=128, ch_out=64)\n",
    "        self.up_conv2 = conv_block(ch_in=128, ch_out=64)\n",
    "\n",
    "        self.up_conv1 = nn.Conv2d(64, output_ch, kernel_size=1, stride=1, padding=0)\n",
    "\n",
    "    def forward(self, x):\n",
    "        x1 = self.conv1(x)\n",
    "        x2 = self.maxpool(x1)\n",
    "        x2 = self.conv2(x2)\n",
    "        x3 = self.maxpool(x2)\n",
    "        x3 = self.conv3(x3)\n",
    "        x4 = self.maxpool(x3)\n",
    "        x4 = self.conv4(x4)\n",
    "        x5 = self.maxpool(x4)\n",
    "        x5 = self.conv5(x5)\n",
    "\n",
    "        d5 = self.up5(x5)\n",
    "        d5 = torch.cat((x4, d5), dim=1)\n",
    "        d5 = self.up_conv5(d5)\n",
    "\n",
    "        d4 = self.up4(d5)\n",
    "        d4 = torch.cat((x3, d4), dim=1)\n",
    "        d4 = self.up_conv4(d4)\n",
    "\n",
    "        d3 = self.up3(d4)\n",
    "        d3 = torch.cat((x2, d3), dim=1)\n",
    "        d3 = self.up_conv3(d3)\n",
    "\n",
    "        d2 = self.up2(d3)\n",
    "        d2 = torch.cat((x1, d2), dim=1)\n",
    "        d2 = self.up_conv2(d2)\n",
    "\n",
    "        d1 = self.up_conv1(d2)\n",
    "        return d1"
   ]
  },
  {
   "cell_type": "code",
   "execution_count": 4,
   "metadata": {},
   "outputs": [],
   "source": [
    "x = torch.randn_like(img_noisy)\n",
    "model = U_Net(img_ch=1, output_ch=1)\n",
    "criterion = nn.MSELoss()\n",
    "optimizer = optim.Adam(model.parameters(), lr=1e-2)"
   ]
  },
  {
   "cell_type": "code",
   "execution_count": 5,
   "metadata": {},
   "outputs": [],
   "source": [
    "t = time.time()\n",
    "num_epochs = 200\n",
    "for epoch in range(num_epochs):\n",
    "    model.train()\n",
    "    output = model(x)\n",
    "    loss = criterion(output, img)\n",
    "    optimizer.zero_grad()\n",
    "    loss.backward()\n",
    "    optimizer.step()\n",
    "    if epoch % 10 == 0:\n",
    "        print(f\"Epoch {epoch+1}/{num_epochs}, Loss: {loss.item():.6f}\")\n",
    "\n",
    "print(\"Time elapsed U-Net:\", round(time.time() - t, 3), \"seconds\")"
   ]
  },
  {
   "cell_type": "code",
   "execution_count": 6,
   "metadata": {},
   "outputs": [],
   "source": [
    "img_unet = model(x)\n",
    "img_unet = img_unet.clip(0, 255)\n",
    "write_png(img_unet[0, :, :, :].byte().to(\"cpu\"), \"./img_unet.png\")"
   ]
  },
  {
   "cell_type": "code",
   "execution_count": 7,
   "metadata": {},
   "outputs": [],
   "source": [
    "psnr = 10*torch.log10(255**2 / torch.mean((img_unet - img)**2))\n",
    "print(\"PSNR u-net:\", round(float(psnr), 2), \"dB\")"
   ]
  }
 ],
 "metadata": {
  "kernelspec": {
   "display_name": "Python 3.9.13 ('venv': venv)",
   "language": "python",
   "name": "python3"
  },
  "language_info": {
   "codemirror_mode": {
    "name": "ipython",
    "version": 3
   },
   "file_extension": ".py",
   "mimetype": "text/x-python",
   "name": "python",
   "nbconvert_exporter": "python",
   "pygments_lexer": "ipython3",
   "version": "3.9.13"
  },
  "orig_nbformat": 4,
  "vscode": {
   "interpreter": {
    "hash": "1eae3fb3d22bfe9d65f381451681dc210dcc0b10938e5e2e079c6bf80fa6ee79"
   }
  }
 },
 "nbformat": 4,
 "nbformat_minor": 2
}
